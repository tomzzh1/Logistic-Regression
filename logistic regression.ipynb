{
 "cells": [
  {
   "cell_type": "code",
   "execution_count": 1,
   "metadata": {},
   "outputs": [],
   "source": [
    "import pandas as pd\n",
    "from matplotlib import pyplot as plt\n",
    "import numpy as np\n",
    "import handcalcs.render\n",
    "import seaborn as sns\n",
    "from sympy import *"
   ]
  },
  {
   "cell_type": "code",
   "execution_count": 3,
   "metadata": {},
   "outputs": [
    {
     "data": {
      "text/html": [
       "<div>\n",
       "<style scoped>\n",
       "    .dataframe tbody tr th:only-of-type {\n",
       "        vertical-align: middle;\n",
       "    }\n",
       "\n",
       "    .dataframe tbody tr th {\n",
       "        vertical-align: top;\n",
       "    }\n",
       "\n",
       "    .dataframe thead th {\n",
       "        text-align: right;\n",
       "    }\n",
       "</style>\n",
       "<table border=\"1\" class=\"dataframe\">\n",
       "  <thead>\n",
       "    <tr style=\"text-align: right;\">\n",
       "      <th></th>\n",
       "      <th>Weight</th>\n",
       "      <th>Obese</th>\n",
       "    </tr>\n",
       "  </thead>\n",
       "  <tbody>\n",
       "    <tr>\n",
       "      <th>0</th>\n",
       "      <td>2.0</td>\n",
       "      <td>0</td>\n",
       "    </tr>\n",
       "    <tr>\n",
       "      <th>1</th>\n",
       "      <td>3.0</td>\n",
       "      <td>0</td>\n",
       "    </tr>\n",
       "    <tr>\n",
       "      <th>2</th>\n",
       "      <td>2.5</td>\n",
       "      <td>0</td>\n",
       "    </tr>\n",
       "    <tr>\n",
       "      <th>3</th>\n",
       "      <td>8.0</td>\n",
       "      <td>0</td>\n",
       "    </tr>\n",
       "    <tr>\n",
       "      <th>4</th>\n",
       "      <td>8.5</td>\n",
       "      <td>1</td>\n",
       "    </tr>\n",
       "    <tr>\n",
       "      <th>5</th>\n",
       "      <td>8.0</td>\n",
       "      <td>1</td>\n",
       "    </tr>\n",
       "    <tr>\n",
       "      <th>6</th>\n",
       "      <td>9.0</td>\n",
       "      <td>1</td>\n",
       "    </tr>\n",
       "    <tr>\n",
       "      <th>7</th>\n",
       "      <td>8.5</td>\n",
       "      <td>1</td>\n",
       "    </tr>\n",
       "  </tbody>\n",
       "</table>\n",
       "</div>"
      ],
      "text/plain": [
       "   Weight  Obese\n",
       "0     2.0      0\n",
       "1     3.0      0\n",
       "2     2.5      0\n",
       "3     8.0      0\n",
       "4     8.5      1\n",
       "5     8.0      1\n",
       "6     9.0      1\n",
       "7     8.5      1"
      ]
     },
     "execution_count": 3,
     "metadata": {},
     "output_type": "execute_result"
    }
   ],
   "source": [
    "data = pd.DataFrame({'Weight':[2,3,2.5,8,  8.5,8,9,8.5],\n",
    "                     'Obese':[0, 0, 0, 0, 1,1,1,1]\n",
    "                    })\n",
    "data"
   ]
  },
  {
   "cell_type": "code",
   "execution_count": 51,
   "metadata": {},
   "outputs": [
    {
     "data": {
      "image/png": "[encoded data removed]",
      "text/plain": [
       "<Figure size 432x288 with 1 Axes>"
      ]
     },
     "metadata": {
      "needs_background": "light"
     },
     "output_type": "display_data"
    }
   ],
   "source": [
    "plt.title('Logistic Regression')\n",
    "sns.scatterplot(x =data['Weight'],y=data['Obese'], hue= data['Obese'],legend=False, s =100)\n",
    "\n",
    "sns.lineplot(  x=np.arange(0,10,0.05),  y=1/(1+np.exp(-np.arange(-10,10,0.1))), \n",
    "             color = 'r', dashes=[(2,2)], style=True, legend=False )\n",
    "plt.show()"
   ]
  },
  {
   "cell_type": "markdown",
   "metadata": {},
   "source": [
    "### The log of the odds formula \n",
    "\n",
    "\\begin{equation*}\n",
    "S(x)   = \\frac{1}{(1+e^{-x})}\n",
    "\\end{equation*}\n",
    "\n",
    "Obese is calculated as positive infinity\n",
    "\n",
    "Not Obese is calculated as negative infinity\n",
    "\n",
    "**The coefficient is presented in the log odds graph**"
   ]
  },
  {
   "cell_type": "code",
   "execution_count": 64,
   "metadata": {},
   "outputs": [
    {
     "data": {
      "text/latex": [
       "\\[\n",
       "\\begin{aligned}\n",
       "\\mathrm{LogOdds}_{1} &= inf\\;\n",
       "\\\\[10pt]\n",
       "\\mathrm{LogOdds}_{0} &= -inf\\;\n",
       "\\end{aligned}\n",
       "\\]"
      ],
      "text/plain": [
       "<IPython.core.display.Latex object>"
      ]
     },
     "metadata": {},
     "output_type": "display_data"
    }
   ],
   "source": [
    "%%render\n",
    "LogOdds_1 = np.log(1) - np.log(0)\n",
    "LogOdds_0 = np.log(0) - np.log(1)"
   ]
  },
  {
   "cell_type": "markdown",
   "metadata": {},
   "source": [
    "#### We use Maximum Likelihood instead of the least squared from Linear Regression\n",
    "\n",
    "#### We project the data points on the candidate line\n",
    "\n",
    "#### Calculate the likelihood of the data given the squiggle"
   ]
  },
  {
   "cell_type": "code",
   "execution_count": 66,
   "metadata": {},
   "outputs": [
    {
     "data": {
      "text/latex": [
       "\\[\n",
       "\\begin{aligned}\n",
       "\\mathrm{likelihood} &= \\mathrm{0.49} \\cdot \\mathrm{0.9} \\cdot \\mathrm{0.91} \\cdot \\mathrm{0.91} \\cdot \\mathrm{0.92} \\cdot \\left( 1 - \\mathrm{0.9} \\right) \\cdot \\left( 1 - \\mathrm{0.3} \\right) \\cdot \\left( 1 - \\mathrm{0.01} \\right) \\cdot \\left( 1 - \\mathrm{0.01} \\right) \\\\&= 0.49 \\cdot 0.9 \\cdot 0.91 \\cdot 0.91 \\cdot 0.92 \\cdot \\left( 1 - 0.9 \\right) \\cdot \\left( 1 - 0.3 \\right) \\cdot \\left( 1 - 0.01 \\right) \\cdot \\left( 1 - 0.01 \\right) \\\\&= 0.023\\\\\n",
       "\\end{aligned}\n",
       "\\]"
      ],
      "text/plain": [
       "<IPython.core.display.Latex object>"
      ]
     },
     "metadata": {},
     "output_type": "display_data"
    }
   ],
   "source": [
    "%%render\n",
    "\n",
    "likelihood = 0.49 * 0.9 *0.91 *0.91*0.92 * (1-0.9)*(1-0.3)*(1-0.01)*(1-0.01)"
   ]
  },
  {
   "cell_type": "code",
   "execution_count": 69,
   "metadata": {},
   "outputs": [
    {
     "data": {
      "text/latex": [
       "\\[\n",
       "\\begin{aligned}\n",
       "\\mathrm{loglikelihood} &= \\log { \\mathrm{likelihood} } = \\log { 0.023 } &= \\displaystyle -3.77\n",
       "\\end{aligned}\n",
       "\\]"
      ],
      "text/plain": [
       "<IPython.core.display.Latex object>"
      ]
     },
     "metadata": {},
     "output_type": "display_data"
    }
   ],
   "source": [
    "%%render\n",
    "\n",
    "loglikelihood  = log(likelihood)"
   ]
  },
  {
   "cell_type": "markdown",
   "metadata": {},
   "source": [
    "#### The algorithum rotate the log odds line in a way maximize the log probability"
   ]
  },
  {
   "cell_type": "code",
   "execution_count": null,
   "metadata": {},
   "outputs": [],
   "source": []
  },
  {
   "cell_type": "code",
   "execution_count": null,
   "metadata": {},
   "outputs": [],
   "source": []
  }
 ],
 "metadata": {
  "kernelspec": {
   "display_name": "Python 3",
   "language": "python",
   "name": "python3"
  },
  "language_info": {
   "codemirror_mode": {
    "name": "ipython",
    "version": 3
   },
   "file_extension": ".py",
   "mimetype": "text/x-python",
   "name": "python",
   "nbconvert_exporter": "python",
   "pygments_lexer": "ipython3",
   "version": "3.7.9"
  },
  "toc": {
   "base_numbering": 1,
   "nav_menu": {},
   "number_sections": true,
   "sideBar": true,
   "skip_h1_title": false,
   "title_cell": "Table of Contents",
   "title_sidebar": "Contents",
   "toc_cell": false,
   "toc_position": {},
   "toc_section_display": true,
   "toc_window_display": false
  }
 },
 "nbformat": 4,
 "nbformat_minor": 4
}
